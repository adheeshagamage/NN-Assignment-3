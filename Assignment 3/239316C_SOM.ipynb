{
 "cells": [
  {
   "cell_type": "markdown",
   "metadata": {
    "executionInfo": {
     "elapsed": 1368,
     "status": "ok",
     "timestamp": 1688052054578,
     "user": {
      "displayName": "Thevapalan Anushiya",
      "userId": "09542914280301580888"
     },
     "user_tz": -60
    },
    "id": "nIf5sirCHxrq"
   },
   "source": [
    "# Visualizing Data using SOMs(U-Matrix Implementation)"
   ]
  },
  {
   "cell_type": "code",
   "execution_count": 1,
   "metadata": {},
   "outputs": [],
   "source": [
    "import numpy as np\n",
    "import pandas as pd\n",
    "from sklearn.preprocessing import StandardScaler\n",
    "import matplotlib\n",
    "import matplotlib.pyplot as plt\n",
    "from matplotlib import patches as patches\n",
    "%matplotlib inline"
   ]
  },
  {
   "cell_type": "code",
   "execution_count": 2,
   "metadata": {
    "colab": {
     "base_uri": "https://localhost:8080/",
     "height": 424
    },
    "executionInfo": {
     "elapsed": 622,
     "status": "ok",
     "timestamp": 1688052202467,
     "user": {
      "displayName": "Thevapalan Anushiya",
      "userId": "09542914280301580888"
     },
     "user_tz": -60
    },
    "id": "85IB4F3xIaDA",
    "outputId": "f5020f4d-5be6-4956-c623-cee2b76c9c5e"
   },
   "outputs": [
    {
     "data": {
      "text/html": [
       "<div>\n",
       "<style scoped>\n",
       "    .dataframe tbody tr th:only-of-type {\n",
       "        vertical-align: middle;\n",
       "    }\n",
       "\n",
       "    .dataframe tbody tr th {\n",
       "        vertical-align: top;\n",
       "    }\n",
       "\n",
       "    .dataframe thead th {\n",
       "        text-align: right;\n",
       "    }\n",
       "</style>\n",
       "<table border=\"1\" class=\"dataframe\">\n",
       "  <thead>\n",
       "    <tr style=\"text-align: right;\">\n",
       "      <th></th>\n",
       "      <th>sepal_length</th>\n",
       "      <th>sepal_width</th>\n",
       "      <th>petal_length</th>\n",
       "      <th>petal_width</th>\n",
       "      <th>class</th>\n",
       "    </tr>\n",
       "  </thead>\n",
       "  <tbody>\n",
       "    <tr>\n",
       "      <th>0</th>\n",
       "      <td>5.1</td>\n",
       "      <td>3.5</td>\n",
       "      <td>1.4</td>\n",
       "      <td>0.2</td>\n",
       "      <td>1</td>\n",
       "    </tr>\n",
       "    <tr>\n",
       "      <th>1</th>\n",
       "      <td>4.9</td>\n",
       "      <td>3.0</td>\n",
       "      <td>1.4</td>\n",
       "      <td>0.2</td>\n",
       "      <td>1</td>\n",
       "    </tr>\n",
       "    <tr>\n",
       "      <th>2</th>\n",
       "      <td>4.6</td>\n",
       "      <td>3.1</td>\n",
       "      <td>1.5</td>\n",
       "      <td>0.2</td>\n",
       "      <td>1</td>\n",
       "    </tr>\n",
       "    <tr>\n",
       "      <th>3</th>\n",
       "      <td>5.0</td>\n",
       "      <td>3.6</td>\n",
       "      <td>1.4</td>\n",
       "      <td>0.2</td>\n",
       "      <td>1</td>\n",
       "    </tr>\n",
       "    <tr>\n",
       "      <th>4</th>\n",
       "      <td>4.6</td>\n",
       "      <td>3.4</td>\n",
       "      <td>1.4</td>\n",
       "      <td>0.3</td>\n",
       "      <td>1</td>\n",
       "    </tr>\n",
       "    <tr>\n",
       "      <th>5</th>\n",
       "      <td>5.0</td>\n",
       "      <td>3.4</td>\n",
       "      <td>1.5</td>\n",
       "      <td>0.2</td>\n",
       "      <td>1</td>\n",
       "    </tr>\n",
       "    <tr>\n",
       "      <th>6</th>\n",
       "      <td>4.9</td>\n",
       "      <td>3.1</td>\n",
       "      <td>1.5</td>\n",
       "      <td>0.1</td>\n",
       "      <td>1</td>\n",
       "    </tr>\n",
       "    <tr>\n",
       "      <th>7</th>\n",
       "      <td>5.4</td>\n",
       "      <td>3.7</td>\n",
       "      <td>1.5</td>\n",
       "      <td>0.2</td>\n",
       "      <td>1</td>\n",
       "    </tr>\n",
       "    <tr>\n",
       "      <th>8</th>\n",
       "      <td>4.8</td>\n",
       "      <td>3.0</td>\n",
       "      <td>1.4</td>\n",
       "      <td>0.1</td>\n",
       "      <td>1</td>\n",
       "    </tr>\n",
       "    <tr>\n",
       "      <th>9</th>\n",
       "      <td>4.3</td>\n",
       "      <td>3.0</td>\n",
       "      <td>1.1</td>\n",
       "      <td>0.1</td>\n",
       "      <td>1</td>\n",
       "    </tr>\n",
       "  </tbody>\n",
       "</table>\n",
       "</div>"
      ],
      "text/plain": [
       "   sepal_length  sepal_width  petal_length  petal_width  class\n",
       "0           5.1          3.5           1.4          0.2      1\n",
       "1           4.9          3.0           1.4          0.2      1\n",
       "2           4.6          3.1           1.5          0.2      1\n",
       "3           5.0          3.6           1.4          0.2      1\n",
       "4           4.6          3.4           1.4          0.3      1\n",
       "5           5.0          3.4           1.5          0.2      1\n",
       "6           4.9          3.1           1.5          0.1      1\n",
       "7           5.4          3.7           1.5          0.2      1\n",
       "8           4.8          3.0           1.4          0.1      1\n",
       "9           4.3          3.0           1.1          0.1      1"
      ]
     },
     "execution_count": 2,
     "metadata": {},
     "output_type": "execute_result"
    }
   ],
   "source": [
    "#loading dataset\n",
    "data = pd.read_csv(\"iris.txt\",header=None,names=['sepal_length', 'sepal_width', 'petal_length', 'petal_width','class'])\n",
    "data.head(10)"
   ]
  },
  {
   "cell_type": "code",
   "execution_count": 3,
   "metadata": {
    "colab": {
     "base_uri": "https://localhost:8080/",
     "height": 424
    },
    "executionInfo": {
     "elapsed": 281,
     "status": "ok",
     "timestamp": 1688052205714,
     "user": {
      "displayName": "Thevapalan Anushiya",
      "userId": "09542914280301580888"
     },
     "user_tz": -60
    },
    "id": "QGcLd64bI-oL",
    "outputId": "b62d157e-96a7-4d7f-ecbf-92bcca81d24a"
   },
   "outputs": [
    {
     "data": {
      "text/html": [
       "<div>\n",
       "<style scoped>\n",
       "    .dataframe tbody tr th:only-of-type {\n",
       "        vertical-align: middle;\n",
       "    }\n",
       "\n",
       "    .dataframe tbody tr th {\n",
       "        vertical-align: top;\n",
       "    }\n",
       "\n",
       "    .dataframe thead th {\n",
       "        text-align: right;\n",
       "    }\n",
       "</style>\n",
       "<table border=\"1\" class=\"dataframe\">\n",
       "  <thead>\n",
       "    <tr style=\"text-align: right;\">\n",
       "      <th></th>\n",
       "      <th>0</th>\n",
       "      <th>1</th>\n",
       "      <th>2</th>\n",
       "      <th>3</th>\n",
       "    </tr>\n",
       "  </thead>\n",
       "  <tbody>\n",
       "    <tr>\n",
       "      <th>0</th>\n",
       "      <td>-0.900681</td>\n",
       "      <td>1.032057</td>\n",
       "      <td>-1.341272</td>\n",
       "      <td>-1.312977</td>\n",
       "    </tr>\n",
       "    <tr>\n",
       "      <th>1</th>\n",
       "      <td>-1.143017</td>\n",
       "      <td>-0.124958</td>\n",
       "      <td>-1.341272</td>\n",
       "      <td>-1.312977</td>\n",
       "    </tr>\n",
       "    <tr>\n",
       "      <th>2</th>\n",
       "      <td>-1.506521</td>\n",
       "      <td>0.106445</td>\n",
       "      <td>-1.284407</td>\n",
       "      <td>-1.312977</td>\n",
       "    </tr>\n",
       "    <tr>\n",
       "      <th>3</th>\n",
       "      <td>-1.021849</td>\n",
       "      <td>1.263460</td>\n",
       "      <td>-1.341272</td>\n",
       "      <td>-1.312977</td>\n",
       "    </tr>\n",
       "    <tr>\n",
       "      <th>4</th>\n",
       "      <td>-1.506521</td>\n",
       "      <td>0.800654</td>\n",
       "      <td>-1.341272</td>\n",
       "      <td>-1.181504</td>\n",
       "    </tr>\n",
       "    <tr>\n",
       "      <th>...</th>\n",
       "      <td>...</td>\n",
       "      <td>...</td>\n",
       "      <td>...</td>\n",
       "      <td>...</td>\n",
       "    </tr>\n",
       "    <tr>\n",
       "      <th>145</th>\n",
       "      <td>0.674501</td>\n",
       "      <td>0.106445</td>\n",
       "      <td>0.990221</td>\n",
       "      <td>0.790591</td>\n",
       "    </tr>\n",
       "    <tr>\n",
       "      <th>146</th>\n",
       "      <td>1.038005</td>\n",
       "      <td>0.106445</td>\n",
       "      <td>1.047087</td>\n",
       "      <td>1.579429</td>\n",
       "    </tr>\n",
       "    <tr>\n",
       "      <th>147</th>\n",
       "      <td>1.159173</td>\n",
       "      <td>0.337848</td>\n",
       "      <td>1.217684</td>\n",
       "      <td>1.447956</td>\n",
       "    </tr>\n",
       "    <tr>\n",
       "      <th>148</th>\n",
       "      <td>0.553333</td>\n",
       "      <td>-1.281972</td>\n",
       "      <td>0.705893</td>\n",
       "      <td>0.922064</td>\n",
       "    </tr>\n",
       "    <tr>\n",
       "      <th>149</th>\n",
       "      <td>0.068662</td>\n",
       "      <td>-0.124958</td>\n",
       "      <td>0.762759</td>\n",
       "      <td>0.790591</td>\n",
       "    </tr>\n",
       "  </tbody>\n",
       "</table>\n",
       "<p>150 rows × 4 columns</p>\n",
       "</div>"
      ],
      "text/plain": [
       "            0         1         2         3\n",
       "0   -0.900681  1.032057 -1.341272 -1.312977\n",
       "1   -1.143017 -0.124958 -1.341272 -1.312977\n",
       "2   -1.506521  0.106445 -1.284407 -1.312977\n",
       "3   -1.021849  1.263460 -1.341272 -1.312977\n",
       "4   -1.506521  0.800654 -1.341272 -1.181504\n",
       "..        ...       ...       ...       ...\n",
       "145  0.674501  0.106445  0.990221  0.790591\n",
       "146  1.038005  0.106445  1.047087  1.579429\n",
       "147  1.159173  0.337848  1.217684  1.447956\n",
       "148  0.553333 -1.281972  0.705893  0.922064\n",
       "149  0.068662 -0.124958  0.762759  0.790591\n",
       "\n",
       "[150 rows x 4 columns]"
      ]
     },
     "execution_count": 3,
     "metadata": {},
     "output_type": "execute_result"
    }
   ],
   "source": [
    "#Dropping label column and standardization\n",
    "data = data.drop(data.columns[-1],axis=1)\n",
    "train = StandardScaler().fit_transform(data.values)\n",
    "pd.DataFrame(train)"
   ]
  },
  {
   "cell_type": "code",
   "execution_count": 4,
   "metadata": {
    "executionInfo": {
     "elapsed": 2,
     "status": "ok",
     "timestamp": 1688052210573,
     "user": {
      "displayName": "Thevapalan Anushiya",
      "userId": "09542914280301580888"
     },
     "user_tz": -60
    },
    "id": "PZTByuKkJUsv"
   },
   "outputs": [],
   "source": [
    "#Identifying closest node to a given data point\n",
    "def closest_node(data, t, maps, m_rows, m_cols):\n",
    "  result = (0,0)\n",
    "  smallest_dist = 1.0e20\n",
    "  for i in range(m_rows):\n",
    "    for j in range(m_cols):\n",
    "      ed = euc_dist(maps[i][j], data[t])\n",
    "      if ed < smallest_dist:\n",
    "        smallest_dist = ed\n",
    "        result = (i, j)\n",
    "  return result\n",
    "\n",
    "#Euclidian distance\n",
    "def euc_dist(v1, v2):\n",
    "  return np.linalg.norm(v1 - v2)\n",
    "\n",
    "#Manhattan distance\n",
    "def manhattan_dist(r1, c1, r2, c2):\n",
    "  return np.abs(r1-r2) + np.abs(c1-c2)\n",
    "\n",
    "def most_common(lst, n):\n",
    "  if len(lst) == 0: return -1\n",
    "  counts = np.zeros(shape=n, dtype=np.int)\n",
    "  for i in range(len(lst)):\n",
    "    counts[lst[i]] += 1\n",
    "  return np.argmax(counts)\n"
   ]
  },
  {
   "cell_type": "code",
   "execution_count": 5,
   "metadata": {
    "colab": {
     "base_uri": "https://localhost:8080/",
     "height": 1000
    },
    "executionInfo": {
     "elapsed": 61703,
     "status": "ok",
     "timestamp": 1688052276986,
     "user": {
      "displayName": "Thevapalan Anushiya",
      "userId": "09542914280301580888"
     },
     "user_tz": -60
    },
    "id": "7Qc5Z4CCXQvF",
    "outputId": "d379b2da-58fd-48a8-a5a0-6629aee8b11f"
   },
   "outputs": [
    {
     "name": "stdout",
     "output_type": "stream",
     "text": [
      "\n",
      "Loading Iris data\n",
      "\n",
      "Construction of 30x30 SOM from the iris dataset\n",
      "step =  0\n"
     ]
    },
    {
     "name": "stderr",
     "output_type": "stream",
     "text": [
      "C:\\Users\\adhee\\AppData\\Local\\Temp\\ipykernel_16024\\1567979694.py:16: DeprecationWarning: `np.int` is a deprecated alias for the builtin `int`. To silence this warning, use `int` by itself. Doing this will not modify any behavior and is safe. When replacing `np.int`, you may wish to use e.g. `np.int64` or `np.int32` to specify the precision. If you wish to review your current use, check the release note link for additional information.\n",
      "Deprecated in NumPy 1.20; for more details and guidance: https://numpy.org/devdocs/release/1.20.0-notes.html#deprecations\n",
      "  dtype=np.int)\n"
     ]
    },
    {
     "name": "stdout",
     "output_type": "stream",
     "text": [
      "step =  500\n",
      "step =  1000\n",
      "step =  1500\n",
      "step =  2000\n",
      "step =  2500\n",
      "step =  3000\n",
      "step =  3500\n",
      "step =  4000\n",
      "step =  4500\n",
      "SOM construction is completed \n",
      "\n"
     ]
    },
    {
     "data": {
      "image/png": "[encoded data removed]",
      "text/plain": [
       "<Figure size 640x480 with 1 Axes>"
      ]
     },
     "metadata": {},
     "output_type": "display_data"
    },
    {
     "data": {
      "image/png": "[encoded data removed]",
      "text/plain": [
       "<Figure size 640x480 with 1 Axes>"
      ]
     },
     "metadata": {},
     "output_type": "display_data"
    },
    {
     "name": "stderr",
     "output_type": "stream",
     "text": [
      "C:\\Users\\adhee\\AppData\\Local\\Temp\\ipykernel_16024\\1567979694.py:75: DeprecationWarning: `np.int` is a deprecated alias for the builtin `int`. To silence this warning, use `int` by itself. Doing this will not modify any behavior and is safe. When replacing `np.int`, you may wish to use e.g. `np.int64` or `np.int32` to specify the precision. If you wish to review your current use, check the release note link for additional information.\n",
      "Deprecated in NumPy 1.20; for more details and guidance: https://numpy.org/devdocs/release/1.20.0-notes.html#deprecations\n",
      "  label_map = np.zeros(shape=(rows,cols), dtype=np.int)\n",
      "C:\\Users\\adhee\\AppData\\Local\\Temp\\ipykernel_16024\\1217826440.py:23: DeprecationWarning: `np.int` is a deprecated alias for the builtin `int`. To silence this warning, use `int` by itself. Doing this will not modify any behavior and is safe. When replacing `np.int`, you may wish to use e.g. `np.int64` or `np.int32` to specify the precision. If you wish to review your current use, check the release note link for additional information.\n",
      "Deprecated in NumPy 1.20; for more details and guidance: https://numpy.org/devdocs/release/1.20.0-notes.html#deprecations\n",
      "  counts = np.zeros(shape=n, dtype=np.int)\n",
      "C:\\Users\\adhee\\AppData\\Local\\Temp\\ipykernel_16024\\1567979694.py:80: MatplotlibDeprecationWarning: The get_cmap function was deprecated in Matplotlib 3.7 and will be removed two minor releases later. Use ``matplotlib.colormaps[name]`` or ``matplotlib.colormaps.get_cmap(obj)`` instead.\n",
      "  plt.imshow(label_map, cmap=plt.cm.get_cmap('terrain_r', 5))\n"
     ]
    },
    {
     "data": {
      "image/png": "[encoded data removed]",
      "text/plain": [
       "<Figure size 640x480 with 2 Axes>"
      ]
     },
     "metadata": {},
     "output_type": "display_data"
    },
    {
     "name": "stderr",
     "output_type": "stream",
     "text": [
      "C:\\Users\\adhee\\AppData\\Local\\Temp\\ipykernel_16024\\1567979694.py:85: MatplotlibDeprecationWarning: The get_cmap function was deprecated in Matplotlib 3.7 and will be removed two minor releases later. Use ``matplotlib.colormaps[name]`` or ``matplotlib.colormaps.get_cmap(obj)`` instead.\n",
      "  plt.imshow(label_map, cmap=plt.cm.get_cmap('terrain_r', 5))\n"
     ]
    },
    {
     "data": {
      "image/png": "[encoded data removed]",
      "text/plain": [
       "<Figure size 640x480 with 2 Axes>"
      ]
     },
     "metadata": {},
     "output_type": "display_data"
    }
   ],
   "source": [
    "def main():\n",
    "\n",
    "  np.random.seed(1)\n",
    "  dim = 4\n",
    "  rows = 30; cols = 30\n",
    "  rangeMax = rows + cols\n",
    "  learnMax = 0.5\n",
    "  stepsMax = 5000\n",
    "\n",
    "  #Loading data\n",
    "  print(\"\\nLoading Iris data\\n\")\n",
    "  data_file = \"iris.txt\"\n",
    "  data_x = np.loadtxt(data_file, delimiter=\",\", usecols=range(0,4),\n",
    "    dtype=np.float64)\n",
    "  data_y = np.loadtxt(data_file, delimiter=\",\", usecols=[4],\n",
    "    dtype=np.int)\n",
    "\n",
    "\n",
    "\n",
    "  #Constructing the SOM\n",
    "  print(\"Construction of 30x30 SOM from the iris dataset\")\n",
    "  maps = np.random.random_sample(size=(rows,cols,dim))\n",
    "  for s in range(stepsMax):\n",
    "    if s % (stepsMax/10) == 0: print(\"step = \", str(s))\n",
    "    pct_left = 1.0 - ((s * 1.0) / stepsMax)\n",
    "    curr_range = (int)(pct_left * rangeMax)\n",
    "    curr_rate = pct_left * learnMax\n",
    "\n",
    "    t = np.random.randint(len(data_x))\n",
    "    (bmu_row, bmu_col) = closest_node(data_x, t, maps, rows, cols)\n",
    "    for i in range(rows):\n",
    "      for j in range(cols):\n",
    "        if manhattan_dist(bmu_row, bmu_col, i, j) < curr_range:\n",
    "          maps[i][j] = maps[i][j] + curr_rate * \\\n",
    "(data_x[t] - maps[i][j])\n",
    "  print(\"SOM construction is completed \\n\")\n",
    "\n",
    "  #Construction of U-Matrix\n",
    "  u_matrix = np.zeros(shape=(rows,cols), dtype=np.float64)\n",
    "  for i in range(rows):\n",
    "    for j in range(cols):\n",
    "      v = maps[i][j]  # a vector\n",
    "      sum_dists = 0.0; ct = 0\n",
    "\n",
    "      if i-1 >= 0:    # above\n",
    "        sum_dists += euc_dist(v, maps[i-1][j]); ct += 1\n",
    "      if i+1 <= rows-1:   # below\n",
    "        sum_dists += euc_dist(v, maps[i+1][j]); ct += 1\n",
    "      if j-1 >= 0:   # left\n",
    "        sum_dists += euc_dist(v, maps[i][j-1]); ct += 1\n",
    "      if j+1 <= cols-1:   # right\n",
    "        sum_dists += euc_dist(v, maps[i][j+1]); ct += 1\n",
    "\n",
    "      u_matrix[i][j] = sum_dists / ct\n",
    "\n",
    " # displaying U-Matrix im Greyscale\n",
    "  plt.imshow(u_matrix, cmap='gray')  # black = close = clusters\n",
    "  plt.show()\n",
    "\n",
    "  # displaying U-Matrix in viridis\n",
    "  plt.imshow(u_matrix, cmap='viridis')  # black = close = clusters\n",
    "  plt.show()\n",
    "\n",
    "  \n",
    "  # associating each data label with a map node and plotting\n",
    "  mapping = np.empty(shape=(rows,cols), dtype=object)\n",
    "  for i in range(rows):\n",
    "    for j in range(cols):\n",
    "      mapping[i][j] = []\n",
    "\n",
    "  for t in range(len(data_x)):\n",
    "    (m_row, m_col) = closest_node(data_x, t, maps, rows, cols)\n",
    "    mapping[m_row][m_col].append(data_y[t])\n",
    "\n",
    "  label_map = np.zeros(shape=(rows,cols), dtype=np.int)\n",
    "  for i in range(rows):\n",
    "    for j in range(cols):\n",
    "      label_map[i][j] = most_common(mapping[i][j], 4)\n",
    "\n",
    "  plt.imshow(label_map, cmap=plt.cm.get_cmap('terrain_r', 5))\n",
    "  plt.colorbar()\n",
    "  plt.show()\n",
    "\n",
    "  # superimpose label map on the grayscale U-Matrix plot\n",
    "  plt.imshow(label_map, cmap=plt.cm.get_cmap('terrain_r', 5))\n",
    "  plt.colorbar()\n",
    "  # display U-Matrix in grayscale\n",
    "  plt.imshow(u_matrix, cmap='gray',alpha=0.6)  # black = close = clusters\n",
    "\n",
    "  plt.show()\n",
    "\n",
    "# ==================================================================\n",
    "#Calling main function\n",
    "main()\n"
   ]
  },
  {
   "cell_type": "code",
   "execution_count": null,
   "metadata": {
    "id": "yYDKfTeAwKtv"
   },
   "outputs": [],
   "source": []
  }
 ],
 "metadata": {
  "colab": {
   "provenance": [
    {
     "file_id": "1t97zGbg5PFc3jQnFkLlZ3yC9izdE690t",
     "timestamp": 1688052018435
    }
   ]
  },
  "kernelspec": {
   "display_name": "Python 3 (ipykernel)",
   "language": "python",
   "name": "python3"
  },
  "language_info": {
   "codemirror_mode": {
    "name": "ipython",
    "version": 3
   },
   "file_extension": ".py",
   "mimetype": "text/x-python",
   "name": "python",
   "nbconvert_exporter": "python",
   "pygments_lexer": "ipython3",
   "version": "3.9.0"
  }
 },
 "nbformat": 4,
 "nbformat_minor": 1
}
